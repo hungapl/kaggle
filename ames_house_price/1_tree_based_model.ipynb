{
 "cells": [
  {
   "cell_type": "markdown",
   "metadata": {},
   "source": [
    "## Tree-based model\n",
    "- Linear models (e.g. linear regression, logistic regression)"
   ]
  },
  {
   "cell_type": "code",
   "execution_count": 1,
   "metadata": {
    "collapsed": true
   },
   "outputs": [],
   "source": [
    "import pandas as pd\n",
    "from pandas_summary import DataFrameSummary\n",
    "import numpy as np\n",
    "import seaborn as sns\n",
    "import matplotlib.pyplot as plt\n",
    "%matplotlib inline\n"
   ]
  },
  {
   "cell_type": "code",
   "execution_count": 2,
   "metadata": {
    "collapsed": true
   },
   "outputs": [],
   "source": [
    "data_dir = '_data/' \n",
    "df_train = pd.read_csv(data_dir + 'train1.csv')\n",
    "target_col = 'SalePrice'\n",
    "\n",
    "def clean_na(df):\n",
    "    # Pre-process - drop attributes that has no valid values for most of the records\n",
    "    df = df.drop(['Alley', 'Fence','MiscFeature'], axis=1)\n",
    "\n",
    "    # Drop Pool information as well as not many of the sampled properties has a pool (7 out of 1460)\n",
    "    df = df.drop(['PoolArea', 'PoolQC'], axis=1)            \n",
    "    return df.dropna()\n",
    "\n",
    "df_train_no_na = clean_na(df_train)\n",
    "# Find categorical variables\n",
    "types_df = pd.DataFrame(df_train_no_na.dtypes).reset_index()\n",
    "cat_cols = types_df[types_df[0] == 'object']['index'].values"
   ]
  },
  {
   "cell_type": "code",
   "execution_count": 9,
   "metadata": {
    "collapsed": true
   },
   "outputs": [],
   "source": [
    "from sklearn.model_selection import train_test_split \n",
    "from sklearn import metrics\n",
    "from scipy import stats\n",
    "\n",
    "def hot_encode_categorial_variables(df):\n",
    "    return pd.get_dummies(df)\n",
    "\n",
    "def predict_score(mymodel, xtrain, xtest, ytrain, ytest, verbose=True):\n",
    "    mymodel.fit(xtrain, ytrain)\n",
    "    #Predicting the prices\n",
    "    pred = mymodel.predict(xtest)\n",
    "    print(mymodel.)\n",
    "    err_rms = np.sqrt(metrics.mean_squared_error(ytest, pred))/1000\n",
    "    return err_rms\n",
    "    \n",
    "def split_predict_score(mymodel, df):\n",
    "    X = df.drop(columns=target_col, axis=1)\n",
    "    y = df[target_col].values\n",
    "    xtrain, xtest, ytrain, ytest = train_test_split(X,y,test_size=1/4, random_state=0)\n",
    "    err = predict_score(mymodel, xtrain, xtest, ytrain, ytest)\n",
    "    print('Root Mean Squared Error (Scaled):', err)\n"
   ]
  },
  {
   "cell_type": "code",
   "execution_count": 23,
   "metadata": {},
   "outputs": [
    {
     "name": "stdout",
     "output_type": "stream",
     "text": [
      "\n",
      "Attempt 4: Decision Tree\n",
      "DecisionTreeRegressor(criterion='mse', max_depth=100, max_features=None,\n",
      "                      max_leaf_nodes=None, min_impurity_decrease=0.0,\n",
      "                      min_impurity_split=None, min_samples_leaf=1,\n",
      "                      min_samples_split=2, min_weight_fraction_leaf=0.0,\n",
      "                      presort=False, random_state=None, splitter='best')\n",
      "Root Mean Squared Error (Scaled): 46.73231687486884\n",
      "\n",
      "Attempt 4a: Decision Tree with categorical variables\n",
      "DecisionTreeRegressor(criterion='mse', max_depth=100, max_features=None,\n",
      "                      max_leaf_nodes=None, min_impurity_decrease=0.0,\n",
      "                      min_impurity_split=None, min_samples_leaf=1,\n",
      "                      min_samples_split=2, min_weight_fraction_leaf=0.0,\n",
      "                      presort=False, random_state=None, splitter='best')\n",
      "Root Mean Squared Error (Scaled): 53.41263578447712\n"
     ]
    }
   ],
   "source": [
    "from sklearn.linear_model import LinearRegression, LogisticRegression, Lasso, Ridge\n",
    "from sklearn.tree import DecisionTreeRegressor\n",
    "from sklearn.ensemble import RandomForestClassifier\n",
    "import xgboost as xgb\n",
    "\n",
    "print('\\nAttempt 4: Decision Tree')\n",
    "split_predict_score(DecisionTreeRegressor(max_depth=100), df_train_no_na.drop(columns=cat_cols, axis=1))\n",
    "\n",
    "print('\\nAttempt 4a: Decision Tree with categorical variables')\n",
    "split_predict_score(DecisionTreeRegressor(max_depth=100), hot_encode_categorial_variables(df_train_no_na))\n"
   ]
  },
  {
   "cell_type": "markdown",
   "metadata": {},
   "source": [
    "**RMS error is higher than than using Ridge regression.  Again, this suggests this dataset is noisy and prone to over-fitting and tree-based models tend to overfit.  Let's try using random forest with a large number of trees to reduce the likelihood of overfitting**"
   ]
  },
  {
   "cell_type": "code",
   "execution_count": 10,
   "metadata": {},
   "outputs": [
    {
     "name": "stdout",
     "output_type": "stream",
     "text": [
      "\n",
      "Attempt 5: Random forest\n",
      "RandomForestClassifier(bootstrap=True, class_weight=None, criterion='gini',\n",
      "                       max_depth=None, max_features='auto', max_leaf_nodes=None,\n",
      "                       min_impurity_decrease=0.0, min_impurity_split=None,\n",
      "                       min_samples_leaf=1, min_samples_split=2,\n",
      "                       min_weight_fraction_leaf=0.0, n_estimators=1000,\n",
      "                       n_jobs=None, oob_score=False, random_state=None,\n",
      "                       verbose=0, warm_start=False)\n",
      "Root Mean Squared Error (Scaled): 54.1251769626643\n"
     ]
    }
   ],
   "source": [
    "print('\\nAttempt 5: Random forest')\n",
    "split_predict_score(RandomForestClassifier(n_estimators=100), hot_encode_categorial_variables(df_train_no_na))\n"
   ]
  },
  {
   "cell_type": "markdown",
   "metadata": {},
   "source": [
    "**Random forest didn't perform any better than decision tree either.  Let's have a look at the relationship between model parameters and errors**"
   ]
  },
  {
   "cell_type": "markdown",
   "metadata": {},
   "source": [
    "## N Estimators"
   ]
  },
  {
   "cell_type": "code",
   "execution_count": 30,
   "metadata": {},
   "outputs": [
    {
     "data": {
      "image/png": "[encoded data removed]",
      "text/plain": [
       "<Figure size 432x288 with 1 Axes>"
      ]
     },
     "metadata": {},
     "output_type": "display_data"
    }
   ],
   "source": [
    "X = hot_encode_categorial_variables(df_train_no_na).drop(columns=target_col, axis=1)\n",
    "y = df_train_no_na[target_col].values\n",
    "xtrain, xtest, ytrain, ytest = train_test_split(X,y,test_size=1/4, random_state=0)\n",
    "\n",
    "n_estimators = [1, 2, 4, 8, 16, 32, 64, 100, 200, 500, 1000]\n",
    "train_results = []\n",
    "test_results = []\n",
    "for estimator in n_estimators:\n",
    "   rf = RandomForestClassifier(n_estimators=estimator, n_jobs=-1)\n",
    "   rf.fit(xtrain, ytrain)\n",
    "   train_pred = rf.predict(xtrain)\n",
    "   err_train = np.sqrt(metrics.mean_squared_error(ytrain, train_pred))/1000\n",
    "   train_results.append(err_train)\n",
    "\n",
    "   test_pred = rf.predict(xtest)\n",
    "   err_pred = np.sqrt(metrics.mean_squared_error(ytest, test_pred))/1000\n",
    "   test_results.append(err_pred)\n",
    "    \n",
    "from matplotlib.legend_handler import HandlerLine2D\n",
    "line1, = plt.plot(n_estimators, train_results, 'b', label=\"Train Error\")\n",
    "line2, = plt.plot(n_estimators, test_results, 'r', label=\"Test Error\")\n",
    "plt.legend(handler_map={line1: HandlerLine2D(numpoints=2)})\n",
    "plt.ylabel('Error')\n",
    "plt.xlabel('n_estimators')\n",
    "plt.show()"
   ]
  },
  {
   "cell_type": "markdown",
   "metadata": {},
   "source": [
    "## Max Depth"
   ]
  },
  {
   "cell_type": "code",
   "execution_count": 31,
   "metadata": {},
   "outputs": [
    {
     "data": {
      "image/png": "[encoded data removed]",
      "text/plain": [
       "<Figure size 432x288 with 1 Axes>"
      ]
     },
     "metadata": {},
     "output_type": "display_data"
    }
   ],
   "source": [
    "max_depths = np.linspace(1, 32, 32, endpoint=True)\n",
    "train_results = []\n",
    "test_results = []\n",
    "for max_depth in max_depths:\n",
    "   rf = RandomForestClassifier(n_estimators=200, max_depth=max_depth, n_jobs=-1)\n",
    "   rf.fit(xtrain, ytrain)\n",
    "   train_pred = rf.predict(xtrain)\n",
    "   err_train = np.sqrt(metrics.mean_squared_error(ytrain, train_pred))/1000\n",
    "   train_results.append(err_train)\n",
    "\n",
    "   test_pred = rf.predict(xtest)\n",
    "   err_pred = np.sqrt(metrics.mean_squared_error(ytest, test_pred))/1000\n",
    "   test_results.append(err_pred)\n",
    "    \n",
    "from matplotlib.legend_handler import HandlerLine2D\n",
    "line1, = plt.plot(max_depths, train_results, 'b', label=\"Train Error\")\n",
    "line2, = plt.plot(max_depths, test_results, 'r', label=\"Test Error\")\n",
    "plt.legend(handler_map={line1: HandlerLine2D(numpoints=2)})\n",
    "plt.ylabel('Error')\n",
    "plt.xlabel('max_depths')\n",
    "plt.show()"
   ]
  },
  {
   "cell_type": "markdown",
   "metadata": {},
   "source": [
    "**Training error is low while testing error is high suggests 1) overfitting or/and 2) dataset is not representative of the population\n",
    "Let's try a higher training-to-testing sample ratio**\n"
   ]
  },
  {
   "cell_type": "code",
   "execution_count": 32,
   "metadata": {},
   "outputs": [
    {
     "data": {
      "image/png": "[encoded data removed]",
      "text/plain": [
       "<Figure size 432x288 with 1 Axes>"
      ]
     },
     "metadata": {},
     "output_type": "display_data"
    }
   ],
   "source": [
    "X = hot_encode_categorial_variables(df_train_no_na).drop(columns=target_col, axis=1)\n",
    "y = df_train_no_na[target_col].values\n",
    "xtrain, xtest, ytrain, ytest = train_test_split(X,y,test_size=1/8, random_state=0)\n",
    "max_depths = np.linspace(1, 32, 32, endpoint=True)\n",
    "train_results = []\n",
    "test_results = []\n",
    "for max_depth in max_depths:\n",
    "   rf = RandomForestClassifier(n_estimators=200, max_depth=max_depth, n_jobs=-1)\n",
    "   rf.fit(xtrain, ytrain)\n",
    "   train_pred = rf.predict(xtrain)\n",
    "   err_train = np.sqrt(metrics.mean_squared_error(ytrain, train_pred))/1000\n",
    "   train_results.append(err_train)\n",
    "\n",
    "   test_pred = rf.predict(xtest)\n",
    "   err_pred = np.sqrt(metrics.mean_squared_error(ytest, test_pred))/1000\n",
    "   test_results.append(err_pred)\n",
    "    \n",
    "from matplotlib.legend_handler import HandlerLine2D\n",
    "line1, = plt.plot(max_depths, train_results, 'b', label=\"Train Error\")\n",
    "line2, = plt.plot(max_depths, test_results, 'r', label=\"Test Error\")\n",
    "plt.legend(handler_map={line1: HandlerLine2D(numpoints=2)})\n",
    "plt.ylabel('Error')\n",
    "plt.xlabel('max_depths')\n",
    "plt.show()"
   ]
  },
  {
   "cell_type": "markdown",
   "metadata": {},
   "source": [
    "**Slight better results but still a significant difference between the training error and test error.  I noticed the SalePrice has a very skewed distribution in the sample dataset. \n",
    "TODO Consider using a StratifiedKFold sampling - each set contains approximately the same percentage of samples of each target class as the complete set."
   ]
  }
 ],
 "metadata": {
  "kernelspec": {
   "display_name": "Python 3",
   "language": "python",
   "name": "python3"
  },
  "language_info": {
   "codemirror_mode": {
    "name": "ipython",
    "version": 3
   },
   "file_extension": ".py",
   "mimetype": "text/x-python",
   "name": "python",
   "nbconvert_exporter": "python",
   "pygments_lexer": "ipython3",
   "version": "3.6.1"
  }
 },
 "nbformat": 4,
 "nbformat_minor": 2
}
