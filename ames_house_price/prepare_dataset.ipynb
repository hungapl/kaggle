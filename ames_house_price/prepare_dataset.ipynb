{
 "cells": [
  {
   "cell_type": "code",
   "execution_count": 2,
   "metadata": {},
   "outputs": [],
   "source": [
    "import pandas as pd\n",
    "\n",
    "data_dir = '_data/'\n",
    "df_train = pd.read_csv(data_dir + 'train.csv')\n",
    "df_test = pd.read_csv(data_dir + 'test.csv')\n",
    "\n",
    "# Remove columns with lots of missing values\n",
    "col_missing_values =['Alley', 'Fence','MiscFeature', 'PoolArea', 'PoolQC']\n",
    "dataset = 'drop_missing'\n",
    "df_train.drop(col_missing_values, axis=1).to_csv(data_dir + '/train_' + dataset + '.csv', index=False)\n",
    "df_test.drop(col_missing_values, axis=1).to_csv(data_dir + '/test_' + dataset + '.csv', index=False)"
   ]
  },
  {
   "cell_type": "code",
   "execution_count": null,
   "metadata": {},
   "outputs": [],
   "source": []
  }
 ],
 "metadata": {
  "kernelspec": {
   "display_name": "Python 3",
   "language": "python",
   "name": "python3"
  },
  "language_info": {
   "codemirror_mode": {
    "name": "ipython",
    "version": 3
   },
   "file_extension": ".py",
   "mimetype": "text/x-python",
   "name": "python",
   "nbconvert_exporter": "python",
   "pygments_lexer": "ipython3",
   "version": "3.7.5"
  }
 },
 "nbformat": 4,
 "nbformat_minor": 2
}
