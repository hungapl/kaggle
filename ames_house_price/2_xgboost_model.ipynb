{
 "cells": [
  {
   "cell_type": "markdown",
   "metadata": {},
   "source": [
    "## XGBoost Model\n",
    "- Popular tree-boosting model (especially on Kaggle)"
   ]
  },
  {
   "cell_type": "code",
   "execution_count": 1,
   "metadata": {},
   "outputs": [],
   "source": [
    "import pandas as pd\n",
    "from pandas_summary import DataFrameSummary\n",
    "import numpy as np\n",
    "import seaborn as sns\n",
    "import matplotlib.pyplot as plt\n",
    "from nbutils import utils\n",
    "%matplotlib inline"
   ]
  },
  {
   "cell_type": "code",
   "execution_count": 2,
   "metadata": {},
   "outputs": [],
   "source": [
    "data_dir = '_data/' \n",
    "df_train = pd.read_csv(data_dir + 'train.csv')\n",
    "target_col = 'SalePrice'\n",
    "\n",
    "def drop_cols(df):\n",
    "    # Pre-process - drop attributes as most properties(>80%) do not have these features...\n",
    "    return df.drop(['Alley', 'Fence','MiscFeature','PoolArea', 'PoolQC'], axis=1)\n",
    "\n",
    "df_train = df_train.drop('Id', axis=1)\n",
    "df_train1 = drop_cols(df_train)\n"
   ]
  },
  {
   "cell_type": "code",
   "execution_count": 3,
   "metadata": {},
   "outputs": [],
   "source": [
    "from sklearn.model_selection import train_test_split \n",
    "from sklearn import metrics\n",
    "from scipy import stats\n",
    "\n",
    "def hot_encode_categorial_variables(df, required_cols=[]):\n",
    "    df = pd.get_dummies(df)\n",
    "    if len(required_cols) > 0:\n",
    "        for c in required_cols:\n",
    "            if c not in df.columns.values:\n",
    "                df[c] = np.nan\n",
    "    return df\n",
    "\n",
    "def predict_score(mymodel, xtrain, xtest, ytrain, ytest, verbose=True):\n",
    "    mymodel.fit(xtrain, ytrain)\n",
    "    #Predicting the prices\n",
    "    pred = mymodel.predict(xtest)\n",
    "    err_rms = np.sqrt(metrics.mean_squared_error(ytest, pred))/1000\n",
    "    return {'model':mymodel, 'err':err_rms}\n",
    "\n",
    "def xgb_predict(seeds,xtrain, xtest, ytrain, ytest):\n",
    "    \"\"\"\n",
    "        Train and predict.  Show \n",
    "    \"\"\"\n",
    "    rms = list()\n",
    "    model = None\n",
    "    for s in seeds:\n",
    "        p = xgb.XGBRegressor(objective='reg:squarederror', random_state=s)\n",
    "        results = predict_score(p, xtrain, xtest, ytrain, ytest)\n",
    "        err = results['err']\n",
    "        rms.append(err)\n",
    "        if model is None or err < np.min(rms):\n",
    "            model = results['model']\n",
    "    print(stats.describe(np.array(rms)))\n",
    "    return model\n",
    "    \n",
    "def xgb_split_and_predict(seeds, df):\n",
    "    X = df.drop(target_col, axis=1)\n",
    "    y = df[target_col].values\n",
    "    xtrain, xtest, ytrain, ytest = train_test_split(X,y,test_size=1/4, random_state=0)\n",
    "    return xgb_predict(seeds, xtrain, xtest, ytrain, ytest)"
   ]
  },
  {
   "cell_type": "code",
   "execution_count": 4,
   "metadata": {},
   "outputs": [
    {
     "name": "stdout",
     "output_type": "stream",
     "text": [
      "\n",
      "Attempt 6: XGBoost\n",
      "DescribeResult(nobs=10, minmax=(33.914644656927635, 33.914644656927635), mean=33.914644656927635, variance=0.0, skewness=0.0, kurtosis=-3.0)\n",
      "\n",
      "Attempt 6: XGBoost with less attributes\n",
      "DescribeResult(nobs=10, minmax=(33.71647608069665, 33.71647608069665), mean=33.71647608069666, variance=5.609677548238306e-29, skewness=-1.0, kurtosis=-2.0)\n"
     ]
    }
   ],
   "source": [
    "import xgboost as xgb\n",
    "\n",
    "print('\\nAttempt 6: XGBoost')\n",
    "seeds=(np.random.random_sample((10,))*100).astype(int)\n",
    "xgboost1 = xgb_split_and_predict(seeds, hot_encode_categorial_variables(df_train))\n",
    "\n",
    "print('\\nAttempt 6: XGBoost with less attributes')\n",
    "xgboost2_train = hot_encode_categorial_variables(df_train1)\n",
    "xgboost2 = xgb_split_and_predict(seeds, xgboost2_train)\n"
   ]
  },
  {
   "cell_type": "code",
   "execution_count": 5,
   "metadata": {},
   "outputs": [],
   "source": [
    "# Let's see if we can improve this score by imputating missing NA value using multivariate imputation\n",
    "\n",
    "from sklearn.experimental import enable_iterative_imputer\n",
    "from sklearn.impute import IterativeImputer\n",
    "from sklearn.linear_model import BayesianRidge\n",
    "from sklearn.tree import DecisionTreeRegressor\n",
    "from sklearn.ensemble import ExtraTreesRegressor\n",
    "from sklearn.neighbors import KNeighborsRegressor\n",
    "\n",
    "estimators = [\n",
    "    BayesianRidge(),\n",
    "    DecisionTreeRegressor(max_features='sqrt', random_state=0),\n",
    "    ExtraTreesRegressor(n_estimators=10, random_state=0),\n",
    "    KNeighborsRegressor(n_neighbors=15)\n",
    "]\n",
    "\n",
    "def get_imputer(estimator, X):\n",
    "    print('Imputation estimator=' + estimator.__class__.__name__)\n",
    "    imp = IterativeImputer(random_state=0, estimator=estimator)\n",
    "    imp.fit(X)\n",
    "    print('Imputation done')\n",
    "    return imp\n",
    "\n",
    "def impute_and_predict(imputer, X, y):\n",
    "    X_transformed = imputer.transform(X)\n",
    "    xtrain, xtest, ytrain, ytest = train_test_split(X_transformed,y,test_size=1/4, random_state=0)\n",
    "    model = xgb_predict(seeds,xtrain, xtest, ytrain, ytest)\n",
    "    return model"
   ]
  },
  {
   "cell_type": "code",
   "execution_count": 6,
   "metadata": {},
   "outputs": [
    {
     "name": "stdout",
     "output_type": "stream",
     "text": [
      "Imputation estimator=BayesianRidge\n",
      "Imputation done\n",
      "DescribeResult(nobs=10, minmax=(31.248909682255505, 31.248909682255505), mean=31.248909682255505, variance=0.0, skewness=0.0, kurtosis=-3.0)\n",
      "Imputation estimator=DecisionTreeRegressor\n"
     ]
    },
    {
     "name": "stderr",
     "output_type": "stream",
     "text": [
      "/home/alice/.local/lib/python3.7/site-packages/sklearn/impute/_iterative.py:599: ConvergenceWarning: [IterativeImputer] Early stopping criterion not reached.\n",
      "  \" reached.\", ConvergenceWarning)\n"
     ]
    },
    {
     "name": "stdout",
     "output_type": "stream",
     "text": [
      "Imputation done\n",
      "DescribeResult(nobs=10, minmax=(33.1674164379457, 33.1674164379457), mean=33.1674164379457, variance=0.0, skewness=0.0, kurtosis=-3.0)\n",
      "Imputation estimator=ExtraTreesRegressor\n",
      "Imputation done\n",
      "DescribeResult(nobs=10, minmax=(31.720118299893862, 31.720118299893862), mean=31.72011829989386, variance=1.4024193870595766e-29, skewness=1.0, kurtosis=-2.0)\n",
      "Imputation estimator=KNeighborsRegressor\n",
      "Imputation done\n",
      "DescribeResult(nobs=10, minmax=(31.718221422070982, 31.718221422070982), mean=31.718221422070986, variance=1.4024193870595766e-29, skewness=-1.0, kurtosis=-2.0)\n"
     ]
    }
   ],
   "source": [
    "X = pd.get_dummies(df_train.drop(target_col, axis=1))\n",
    "y = df_train[target_col]\n",
    "for e in estimators:\n",
    "    impute_and_predict(get_imputer(e, X),X,y)"
   ]
  },
  {
   "cell_type": "markdown",
   "metadata": {},
   "source": [
    "**Imputated the training data lead to slightly better results (around 6%)**"
   ]
  },
  {
   "cell_type": "code",
   "execution_count": 19,
   "metadata": {},
   "outputs": [],
   "source": [
    "train_cols = xgboost2_train.drop('SalePrice', axis=1).columns\n",
    "test = pd.read_csv(data_dir + 'test.csv')\n",
    "test_encoded =  hot_encode_categorial_variables(drop_cols(test), train_cols)\n",
    "testy = xgboost2.predict(test_encoded[train_cols])\n",
    "results = pd.DataFrame()\n",
    "results['SalePrice'] = testy\n",
    "results['Id'] = test_encoded.Id\n",
    "results.to_csv(data_dir + 'xgb2_prediction.csv', index=False)"
   ]
  },
  {
   "cell_type": "code",
   "execution_count": 10,
   "metadata": {},
   "outputs": [
    {
     "name": "stdout",
     "output_type": "stream",
     "text": [
      "Imputation estimator=BayesianRidge\n",
      "Imputation done\n",
      "DescribeResult(nobs=10, minmax=(32.118017227283225, 32.118017227283225), mean=32.11801722728323, variance=5.609677548238306e-29, skewness=-1.0, kurtosis=-2.0)\n",
      "Imputation estimator=DecisionTreeRegressor\n"
     ]
    },
    {
     "name": "stderr",
     "output_type": "stream",
     "text": [
      "/home/alice/.local/lib/python3.7/site-packages/sklearn/impute/_iterative.py:599: ConvergenceWarning: [IterativeImputer] Early stopping criterion not reached.\n",
      "  \" reached.\", ConvergenceWarning)\n"
     ]
    },
    {
     "name": "stdout",
     "output_type": "stream",
     "text": [
      "Imputation done\n",
      "DescribeResult(nobs=10, minmax=(32.120165183997685, 32.120165183997685), mean=32.120165183997685, variance=0.0, skewness=0.0, kurtosis=-3.0)\n",
      "Imputation estimator=ExtraTreesRegressor\n"
     ]
    },
    {
     "name": "stderr",
     "output_type": "stream",
     "text": [
      "/home/alice/.local/lib/python3.7/site-packages/sklearn/impute/_iterative.py:599: ConvergenceWarning: [IterativeImputer] Early stopping criterion not reached.\n",
      "  \" reached.\", ConvergenceWarning)\n"
     ]
    },
    {
     "name": "stdout",
     "output_type": "stream",
     "text": [
      "Imputation done\n",
      "DescribeResult(nobs=10, minmax=(32.31380808915051, 32.31380808915051), mean=32.313808089150506, variance=5.609677548238306e-29, skewness=1.0, kurtosis=-2.0)\n",
      "Imputation estimator=KNeighborsRegressor\n",
      "Imputation done\n",
      "DescribeResult(nobs=10, minmax=(31.995452188962105, 31.995452188962105), mean=31.995452188962098, variance=5.609677548238306e-29, skewness=1.0, kurtosis=-2.0)\n"
     ]
    }
   ],
   "source": [
    "# In the kaggle forum, users suggest that imputate using the concantenation of the training set and test set lead to better results\n",
    "X_all = X.append(test[X.columns], sort=False)\n",
    "\n",
    "for e in estimators:\n",
    "    impute_and_predict(get_imputer(e, X_all),X,y)"
   ]
  },
  {
   "cell_type": "markdown",
   "metadata": {},
   "source": [
    "**The mean error is higher than before, so it seems using the test set for the imputation process doesn't provide much benefit in this case.  Still I will create another set of predictions and have it scored.**"
   ]
  },
  {
   "cell_type": "code",
   "execution_count": null,
   "metadata": {},
   "outputs": [
    {
     "name": "stdout",
     "output_type": "stream",
     "text": [
      "Imputation estimator=KNeighborsRegressor\n"
     ]
    }
   ],
   "source": [
    "# Generate another submission\n",
    "estimator = KNeighborsRegressor(n_neighbors=15)\n",
    "imputer = get_imputer(estimator, X_all)\n"
   ]
  },
  {
   "cell_type": "code",
   "execution_count": null,
   "metadata": {},
   "outputs": [],
   "source": [
    "mymodel = xgb.XGBRegressor(objective='reg:squarederror')\n",
    "mymodel.fit(imputer.transform(X), y)\n",
    "train_cols = X.columns\n",
    "test_encoded =  hot_encode_categorial_variables(drop_cols(test), train_cols)\n",
    "testy = xgboost2.predict(test_encoded[train_cols])"
   ]
  },
  {
   "cell_type": "code",
   "execution_count": null,
   "metadata": {},
   "outputs": [],
   "source": [
    "len(test_encoded.columns)"
   ]
  },
  {
   "cell_type": "code",
   "execution_count": null,
   "metadata": {},
   "outputs": [],
   "source": [
    "results = pd.DataFrame()\n",
    "results['SalePrice'] = testy\n",
    "results['Id'] = test_encoded.Id\n",
    "results.to_csv(data_dir + 'xgb3_prediction.csv', index=False)"
   ]
  }
 ],
 "metadata": {
  "kernelspec": {
   "display_name": "Python 3",
   "language": "python",
   "name": "python3"
  },
  "language_info": {
   "codemirror_mode": {
    "name": "ipython",
    "version": 3
   },
   "file_extension": ".py",
   "mimetype": "text/x-python",
   "name": "python",
   "nbconvert_exporter": "python",
   "pygments_lexer": "ipython3",
   "version": "3.7.3"
  }
 },
 "nbformat": 4,
 "nbformat_minor": 2
}
