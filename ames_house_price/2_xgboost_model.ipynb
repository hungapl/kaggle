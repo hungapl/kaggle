{
 "cells": [
  {
   "cell_type": "markdown",
   "metadata": {},
   "source": [
    "## XGBoost Model\n",
    "- Popular tree-boosting model"
   ]
  },
  {
   "cell_type": "code",
   "execution_count": 1,
   "metadata": {},
   "outputs": [],
   "source": [
    "import pandas as pd\n",
    "from pandas_summary import DataFrameSummary\n",
    "import numpy as np\n",
    "import seaborn as sns\n",
    "import matplotlib.pyplot as plt\n",
    "from nbutils import utils\n",
    "%matplotlib inline"
   ]
  },
  {
   "cell_type": "code",
   "execution_count": 2,
   "metadata": {},
   "outputs": [],
   "source": [
    "data_dir = '_data/' \n",
    "df_train = pd.read_csv(data_dir + 'train.csv')\n",
    "target_col = 'SalePrice'\n",
    "\n",
    "def drop_cols(df):\n",
    "    # Pre-process - drop attributes as most properties(>80%) do not have these features...\n",
    "    return df.drop(['Alley', 'Fence','MiscFeature','PoolArea', 'PoolQC'], axis=1)\n",
    "\n",
    "df_train = df_train.drop('Id', axis=1)\n",
    "df_train1 = drop_cols(df_train)\n"
   ]
  },
  {
   "cell_type": "code",
   "execution_count": 3,
   "metadata": {},
   "outputs": [],
   "source": [
    "from sklearn.model_selection import train_test_split \n",
    "from sklearn import metrics\n",
    "from scipy import stats\n",
    "\n",
    "def hot_encode_categorial_variables(df, required_cols=[]):\n",
    "    df = pd.get_dummies(df)\n",
    "    if len(required_cols) > 0:\n",
    "        for c in required_cols:\n",
    "            if c not in df.columns.values:\n",
    "                df[c] = np.nan\n",
    "    return df\n",
    "\n",
    "def predict_score(mymodel, xtrain, xtest, ytrain, ytest, verbose=True):\n",
    "    mymodel.fit(xtrain, ytrain)\n",
    "    #Predicting the prices\n",
    "    pred = mymodel.predict(xtest)\n",
    "    err_rms = np.sqrt(metrics.mean_squared_error(ytest, pred))/1000\n",
    "    return {'model':mymodel, 'err':err_rms}\n",
    "\n",
    "def xgb_predict(seeds,xtrain, xtest, ytrain, ytest):\n",
    "    \"\"\"\n",
    "        Train and predict.  Show \n",
    "    \"\"\"\n",
    "    rms = list()\n",
    "    model = None\n",
    "    for s in seeds:\n",
    "        p = xgb.XGBRegressor(objective='reg:squarederror', random_state=s)\n",
    "        results = predict_score(p, xtrain, xtest, ytrain, ytest)\n",
    "        err = results['err']\n",
    "        rms.append(err)\n",
    "        if model is None or err < np.min(rms):\n",
    "            model = results['model']\n",
    "    print(stats.describe(np.array(rms)))\n",
    "    return model\n",
    "    \n",
    "def xgb_split_and_predict(seeds, df):\n",
    "    X = df.drop(target_col, axis=1)\n",
    "    y = df[target_col].values\n",
    "    xtrain, xtest, ytrain, ytest = train_test_split(X,y,test_size=1/4, random_state=0)\n",
    "    return xgb_predict(seeds, xtrain, xtest, ytrain, ytest)"
   ]
  },
  {
   "cell_type": "code",
   "execution_count": 4,
   "metadata": {},
   "outputs": [
    {
     "name": "stdout",
     "output_type": "stream",
     "text": [
      "\n",
      "Attempt 6: XGBoost\n",
      "DescribeResult(nobs=10, minmax=(33.914644656927635, 33.914644656927635), mean=33.914644656927635, variance=0.0, skewness=0.0, kurtosis=-3.0)\n",
      "\n",
      "Attempt 6: XGBoost with less attributes\n",
      "DescribeResult(nobs=10, minmax=(33.71647608069665, 33.71647608069665), mean=33.71647608069666, variance=5.609677548238306e-29, skewness=-1.0, kurtosis=-2.0)\n"
     ]
    }
   ],
   "source": [
    "import xgboost as xgb\n",
    "\n",
    "print('\\nAttempt 6: XGBoost')\n",
    "seeds=(np.random.random_sample((10,))*100).astype(int)\n",
    "xgboost1 = xgb_split_and_predict(seeds, hot_encode_categorial_variables(df_train))\n",
    "\n",
    "print('\\nAttempt 6: XGBoost with less attributes')\n",
    "xgboost2_train = hot_encode_categorial_variables(df_train1)\n",
    "xgboost2 = xgb_split_and_predict(seeds, xgboost2_train)\n"
   ]
  },
  {
   "cell_type": "code",
   "execution_count": 5,
   "metadata": {},
   "outputs": [],
   "source": [
    "# Let's see if we can improve this score by imputating missing NA value using multivariate imputation\n",
    "\n",
    "from sklearn.experimental import enable_iterative_imputer\n",
    "from sklearn.impute import IterativeImputer\n",
    "from sklearn.linear_model import BayesianRidge\n",
    "from sklearn.tree import DecisionTreeRegressor\n",
    "from sklearn.ensemble import ExtraTreesRegressor\n",
    "from sklearn.neighbors import KNeighborsRegressor\n",
    "\n",
    "estimators = [\n",
    "    BayesianRidge(),\n",
    "    DecisionTreeRegressor(max_features='sqrt', random_state=0),\n",
    "    ExtraTreesRegressor(n_estimators=10, random_state=0),\n",
    "    KNeighborsRegressor(n_neighbors=15)\n",
    "]\n",
    "\n",
    "def get_imputer(estimator, X):\n",
    "    print('Imputation estimator=' + estimator.__class__.__name__)\n",
    "    imp = IterativeImputer(random_state=0, estimator=estimator)\n",
    "    imp.fit(X)\n",
    "    print('Imputation done')\n",
    "    return imp\n",
    "\n",
    "def impute_and_predict(imputer, X, y):\n",
    "    X_transformed = imputer.transform(X)\n",
    "    xtrain, xtest, ytrain, ytest = train_test_split(X_transformed,y,test_size=1/4, random_state=0)\n",
    "    model = xgb_predict(seeds,xtrain, xtest, ytrain, ytest)\n",
    "    return model"
   ]
  },
  {
   "cell_type": "code",
   "execution_count": 6,
   "metadata": {},
   "outputs": [
    {
     "name": "stdout",
     "output_type": "stream",
     "text": [
      "Imputation estimator=BayesianRidge\n",
      "Imputation done\n",
      "DescribeResult(nobs=10, minmax=(31.248909682255505, 31.248909682255505), mean=31.248909682255505, variance=0.0, skewness=0.0, kurtosis=-3.0)\n",
      "Imputation estimator=DecisionTreeRegressor\n"
     ]
    },
    {
     "name": "stderr",
     "output_type": "stream",
     "text": [
      "/home/alice/.local/lib/python3.7/site-packages/sklearn/impute/_iterative.py:603: ConvergenceWarning: [IterativeImputer] Early stopping criterion not reached.\n",
      "  \" reached.\", ConvergenceWarning)\n"
     ]
    },
    {
     "name": "stdout",
     "output_type": "stream",
     "text": [
      "Imputation done\n",
      "DescribeResult(nobs=10, minmax=(33.1674164379457, 33.1674164379457), mean=33.1674164379457, variance=0.0, skewness=0.0, kurtosis=-3.0)\n",
      "Imputation estimator=ExtraTreesRegressor\n",
      "Imputation done\n",
      "DescribeResult(nobs=10, minmax=(31.720118299893862, 31.720118299893862), mean=31.72011829989386, variance=1.4024193870595766e-29, skewness=1.0, kurtosis=-2.0)\n",
      "Imputation estimator=KNeighborsRegressor\n",
      "Imputation done\n",
      "DescribeResult(nobs=10, minmax=(31.718221422070982, 31.718221422070982), mean=31.718221422070986, variance=1.4024193870595766e-29, skewness=-1.0, kurtosis=-2.0)\n"
     ]
    }
   ],
   "source": [
    "X = pd.get_dummies(df_train.drop(target_col, axis=1))\n",
    "y = df_train[target_col]\n",
    "for e in estimators:\n",
    "    impute_and_predict(get_imputer(e, X),X,y)"
   ]
  },
  {
   "cell_type": "markdown",
   "metadata": {},
   "source": [
    "**Imputated the training data lead to slightly better results (around 6%)**"
   ]
  },
  {
   "cell_type": "code",
   "execution_count": 7,
   "metadata": {},
   "outputs": [],
   "source": [
    "train_cols = xgboost2_train.drop('SalePrice', axis=1).columns\n",
    "test = pd.read_csv(data_dir + 'test.csv')\n",
    "test_encoded =  hot_encode_categorial_variables(drop_cols(test), train_cols)\n",
    "testy = xgboost2.predict(test_encoded[train_cols])\n",
    "results = pd.DataFrame()\n",
    "results['SalePrice'] = testy\n",
    "results['Id'] = test_encoded.Id\n",
    "results.to_csv(data_dir + 'xgb2_prediction.csv', index=False)"
   ]
  },
  {
   "cell_type": "code",
   "execution_count": 8,
   "metadata": {},
   "outputs": [
    {
     "ename": "KeyError",
     "evalue": "\"['BsmtFinType1_Rec', 'RoofMatl_ClyTile', 'Exterior2nd_CBlock', 'SaleType_CWD', 'LotShape_IR2', 'HouseStyle_SFoyer', 'RoofStyle_Gable', 'Condition1_PosA', 'Heating_Floor', 'MasVnrType_None', 'Neighborhood_SawyerW', 'BldgType_TwnhsE', 'Heating_Grav', 'Functional_Mod', 'Electrical_FuseA', 'Neighborhood_SWISU', 'SaleCondition_Abnorml', 'Foundation_Wood', 'LotConfig_Inside', 'Neighborhood_Veenker', 'Condition1_Feedr', 'GarageQual_Gd', 'Heating_Wall', 'Street_Pave', 'GarageQual_Ex', 'Fence_GdPrv', 'Foundation_Slab', 'SaleType_Con', 'SaleType_ConLD', 'Electrical_FuseP', 'Exterior1st_Stucco', 'Fence_MnWw', 'Heating_OthW', 'Electrical_SBrkr', 'MSZoning_RM', 'Neighborhood_Gilbert', 'Exterior1st_Plywood', 'Exterior2nd_AsbShng', 'CentralAir_N', 'KitchenQual_Fa', 'Exterior1st_MetalSd', 'Neighborhood_Blueste', 'Neighborhood_Somerst', 'Condition2_PosN', 'Condition1_RRNn', 'BsmtExposure_Mn', 'RoofMatl_Membran', 'RoofMatl_CompShg', 'RoofStyle_Hip', 'PavedDrive_P', 'KitchenQual_Gd', 'ExterCond_Po', 'GarageType_BuiltIn', 'BldgType_Duplex', 'Exterior1st_WdShing', 'Exterior1st_AsbShng', 'BsmtFinType2_GLQ', 'SaleType_New', 'MiscFeature_TenC', 'Neighborhood_NPkVill', 'GarageQual_Po', 'ExterQual_TA', 'ExterQual_Fa', 'Neighborhood_BrDale', 'Foundation_BrkTil', 'Neighborhood_Edwards', 'Condition2_RRAe', 'Exterior2nd_ImStucc', 'HouseStyle_2Story', 'Exterior1st_HdBoard', 'Neighborhood_Crawfor', 'Neighborhood_Mitchel', 'KitchenQual_Ex', 'Exterior1st_BrkFace', 'Functional_Typ', 'FireplaceQu_Ex', 'GarageType_Detchd', 'Exterior1st_ImStucc', 'Neighborhood_NridgHt', 'LotShape_Reg', 'SaleCondition_Partial', 'FireplaceQu_Gd', 'SaleType_WD', 'LotConfig_FR3', 'Electrical_Mix', 'BldgType_Twnhs', 'Exterior2nd_Wd Shng', 'BsmtFinType2_Unf', 'Alley_Pave', 'Condition2_RRNn', 'BsmtQual_Ex', 'Exterior1st_Wd Sdng', 'PavedDrive_N', 'Exterior1st_Stone', 'HeatingQC_Gd', 'HeatingQC_Ex', 'Condition1_Artery', 'FireplaceQu_TA', 'GarageQual_Fa', 'GarageQual_TA', 'RoofMatl_WdShngl', 'Heating_GasA', 'LandSlope_Gtl', 'MasVnrType_BrkCmn', 'Condition1_PosN', 'GarageFinish_Fin', 'Neighborhood_Blmngtn', 'RoofMatl_Metal', 'Neighborhood_IDOTRR', 'Functional_Maj1', 'RoofStyle_Mansard', 'PavedDrive_Y', 'BsmtFinType2_ALQ', 'Fence_GdWo', 'MiscFeature_Othr', 'Exterior2nd_Stone', 'Functional_Min2', 'Electrical_FuseF', 'GarageFinish_Unf', 'Exterior2nd_CmentBd', 'RoofMatl_Tar&Grv', 'Exterior2nd_Wd Sdng', 'LotConfig_Corner', 'SaleCondition_Normal', 'Exterior1st_BrkComm', 'LotConfig_CulDSac', 'RoofStyle_Shed', 'Exterior1st_CBlock', 'MasVnrType_Stone', 'Neighborhood_BrkSide', 'ExterCond_Gd', 'BsmtFinType1_BLQ', 'SaleType_Oth', 'BsmtExposure_No', 'BldgType_1Fam', 'GarageCond_Fa', 'GarageType_2Types', 'LandContour_Lvl', 'Neighborhood_NAmes', 'Neighborhood_ClearCr', 'MSZoning_RL', 'Foundation_Stone', 'Street_Grvl', 'Exterior2nd_Brk Cmn', 'BsmtCond_Fa', 'GarageType_Basment', 'Exterior2nd_HdBoard', 'FireplaceQu_Fa', 'BsmtFinType1_Unf', 'GarageCond_Gd', 'BsmtQual_Gd', 'Condition1_RRNe', 'RoofMatl_Roll', 'Functional_Min1', 'Functional_Sev', 'SaleCondition_AdjLand', 'Condition2_Norm', 'Condition1_Norm', 'Exterior2nd_VinylSd', 'ExterQual_Ex', 'BsmtQual_TA', 'LandContour_Bnk', 'LandContour_Low', 'CentralAir_Y', 'SaleType_ConLI', 'HeatingQC_TA', 'GarageFinish_RFn', 'RoofMatl_WdShake', 'MSZoning_RH', 'Condition2_RRAn', 'BsmtFinType2_BLQ', 'HouseStyle_2.5Fin', 'Exterior2nd_Other', 'ExterCond_TA', 'LotConfig_FR2', 'Alley_Grvl', 'Condition2_Feedr', 'Neighborhood_Sawyer', 'HouseStyle_1.5Fin', 'PoolQC_Gd', 'BsmtExposure_Gd', 'Functional_Maj2', 'BldgType_2fmCon', 'Exterior2nd_AsphShn', 'LotShape_IR1', 'Exterior2nd_Stucco', 'BsmtFinType2_Rec', 'Condition2_PosA', 'Neighborhood_Timber', 'Neighborhood_CollgCr', 'MiscFeature_Gar2', 'BsmtFinType1_ALQ', 'FireplaceQu_Po', 'HouseStyle_SLvl', 'Neighborhood_MeadowV', 'RoofStyle_Flat', 'Utilities_NoSeWa', 'ExterCond_Ex', 'BsmtExposure_Av', 'BsmtCond_TA', 'BsmtFinType1_LwQ', 'KitchenQual_TA', 'GarageCond_TA', 'MSZoning_C (all)', 'PoolQC_Ex', 'MiscFeature_Shed', 'MasVnrType_BrkFace', 'Fence_MnPrv', 'Condition1_RRAe', 'BsmtFinType2_LwQ', 'HeatingQC_Fa', 'SaleType_COD', 'LandSlope_Mod', 'LotShape_IR3', 'HeatingQC_Po', 'ExterQual_Gd', 'RoofStyle_Gambrel', 'Neighborhood_OldTown', 'ExterCond_Fa', 'PoolQC_Fa', 'Exterior2nd_MetalSd', 'Exterior1st_AsphShn', 'GarageType_Attchd', 'LandContour_HLS', 'Heating_GasW', 'HouseStyle_2.5Unf', 'Condition2_Artery', 'Exterior1st_CemntBd', 'Exterior1st_VinylSd', 'BsmtFinType1_GLQ', 'SaleCondition_Alloca', 'BsmtCond_Po', 'SaleCondition_Family', 'HouseStyle_1Story', 'Neighborhood_StoneBr', 'Neighborhood_NoRidge', 'Exterior2nd_Plywood', 'Foundation_CBlock', 'Foundation_PConc', 'BsmtQual_Fa', 'BsmtCond_Gd', 'MSZoning_FV', 'SaleType_ConLw', 'Neighborhood_NWAmes', 'GarageType_CarPort', 'GarageCond_Ex', 'Condition1_RRAn', 'HouseStyle_1.5Unf', 'Utilities_AllPub', 'GarageCond_Po', 'Exterior2nd_BrkFace', 'LandSlope_Sev'] not in index\"",
     "output_type": "error",
     "traceback": [
      "\u001b[0;31m------------------------------------------------------------------\u001b[0m",
      "\u001b[0;31mKeyError\u001b[0m                         Traceback (most recent call last)",
      "\u001b[0;32m<ipython-input-8-4aab56e6eb74>\u001b[0m in \u001b[0;36m<module>\u001b[0;34m\u001b[0m\n\u001b[1;32m      1\u001b[0m \u001b[0;31m# In the kaggle forum, users suggest that imputate using the concantenation of the training set and test set lead to better results\u001b[0m\u001b[0;34m\u001b[0m\u001b[0;34m\u001b[0m\u001b[0;34m\u001b[0m\u001b[0m\n\u001b[0;32m----> 2\u001b[0;31m \u001b[0mX_all\u001b[0m \u001b[0;34m=\u001b[0m \u001b[0mX\u001b[0m\u001b[0;34m.\u001b[0m\u001b[0mappend\u001b[0m\u001b[0;34m(\u001b[0m\u001b[0mtest\u001b[0m\u001b[0;34m[\u001b[0m\u001b[0mX\u001b[0m\u001b[0;34m.\u001b[0m\u001b[0mcolumns\u001b[0m\u001b[0;34m]\u001b[0m\u001b[0;34m,\u001b[0m \u001b[0msort\u001b[0m\u001b[0;34m=\u001b[0m\u001b[0;32mFalse\u001b[0m\u001b[0;34m)\u001b[0m\u001b[0;34m\u001b[0m\u001b[0;34m\u001b[0m\u001b[0m\n\u001b[0m\u001b[1;32m      3\u001b[0m \u001b[0;34m\u001b[0m\u001b[0m\n\u001b[1;32m      4\u001b[0m \u001b[0;32mfor\u001b[0m \u001b[0me\u001b[0m \u001b[0;32min\u001b[0m \u001b[0mestimators\u001b[0m\u001b[0;34m:\u001b[0m\u001b[0;34m\u001b[0m\u001b[0;34m\u001b[0m\u001b[0m\n\u001b[1;32m      5\u001b[0m     \u001b[0mimpute_and_predict\u001b[0m\u001b[0;34m(\u001b[0m\u001b[0mget_imputer\u001b[0m\u001b[0;34m(\u001b[0m\u001b[0me\u001b[0m\u001b[0;34m,\u001b[0m \u001b[0mX_all\u001b[0m\u001b[0;34m)\u001b[0m\u001b[0;34m,\u001b[0m\u001b[0mX\u001b[0m\u001b[0;34m,\u001b[0m\u001b[0my\u001b[0m\u001b[0;34m)\u001b[0m\u001b[0;34m\u001b[0m\u001b[0;34m\u001b[0m\u001b[0m\n",
      "\u001b[0;32m/usr/local/lib/python3.7/dist-packages/pandas/core/frame.py\u001b[0m in \u001b[0;36m__getitem__\u001b[0;34m(self, key)\u001b[0m\n\u001b[1;32m   2932\u001b[0m                 \u001b[0mkey\u001b[0m \u001b[0;34m=\u001b[0m \u001b[0mlist\u001b[0m\u001b[0;34m(\u001b[0m\u001b[0mkey\u001b[0m\u001b[0;34m)\u001b[0m\u001b[0;34m\u001b[0m\u001b[0;34m\u001b[0m\u001b[0m\n\u001b[1;32m   2933\u001b[0m             indexer = self.loc._convert_to_indexer(key, axis=1,\n\u001b[0;32m-> 2934\u001b[0;31m                                                    raise_missing=True)\n\u001b[0m\u001b[1;32m   2935\u001b[0m \u001b[0;34m\u001b[0m\u001b[0m\n\u001b[1;32m   2936\u001b[0m         \u001b[0;31m# take() does not accept boolean indexers\u001b[0m\u001b[0;34m\u001b[0m\u001b[0;34m\u001b[0m\u001b[0;34m\u001b[0m\u001b[0m\n",
      "\u001b[0;32m/usr/local/lib/python3.7/dist-packages/pandas/core/indexing.py\u001b[0m in \u001b[0;36m_convert_to_indexer\u001b[0;34m(self, obj, axis, is_setter, raise_missing)\u001b[0m\n\u001b[1;32m   1352\u001b[0m                 kwargs = {'raise_missing': True if is_setter else\n\u001b[1;32m   1353\u001b[0m                           raise_missing}\n\u001b[0;32m-> 1354\u001b[0;31m                 \u001b[0;32mreturn\u001b[0m \u001b[0mself\u001b[0m\u001b[0;34m.\u001b[0m\u001b[0m_get_listlike_indexer\u001b[0m\u001b[0;34m(\u001b[0m\u001b[0mobj\u001b[0m\u001b[0;34m,\u001b[0m \u001b[0maxis\u001b[0m\u001b[0;34m,\u001b[0m \u001b[0;34m**\u001b[0m\u001b[0mkwargs\u001b[0m\u001b[0;34m)\u001b[0m\u001b[0;34m[\u001b[0m\u001b[0;36m1\u001b[0m\u001b[0;34m]\u001b[0m\u001b[0;34m\u001b[0m\u001b[0;34m\u001b[0m\u001b[0m\n\u001b[0m\u001b[1;32m   1355\u001b[0m         \u001b[0;32melse\u001b[0m\u001b[0;34m:\u001b[0m\u001b[0;34m\u001b[0m\u001b[0;34m\u001b[0m\u001b[0m\n\u001b[1;32m   1356\u001b[0m             \u001b[0;32mtry\u001b[0m\u001b[0;34m:\u001b[0m\u001b[0;34m\u001b[0m\u001b[0;34m\u001b[0m\u001b[0m\n",
      "\u001b[0;32m/usr/local/lib/python3.7/dist-packages/pandas/core/indexing.py\u001b[0m in \u001b[0;36m_get_listlike_indexer\u001b[0;34m(self, key, axis, raise_missing)\u001b[0m\n\u001b[1;32m   1159\u001b[0m         self._validate_read_indexer(keyarr, indexer,\n\u001b[1;32m   1160\u001b[0m                                     \u001b[0mo\u001b[0m\u001b[0;34m.\u001b[0m\u001b[0m_get_axis_number\u001b[0m\u001b[0;34m(\u001b[0m\u001b[0maxis\u001b[0m\u001b[0;34m)\u001b[0m\u001b[0;34m,\u001b[0m\u001b[0;34m\u001b[0m\u001b[0;34m\u001b[0m\u001b[0m\n\u001b[0;32m-> 1161\u001b[0;31m                                     raise_missing=raise_missing)\n\u001b[0m\u001b[1;32m   1162\u001b[0m         \u001b[0;32mreturn\u001b[0m \u001b[0mkeyarr\u001b[0m\u001b[0;34m,\u001b[0m \u001b[0mindexer\u001b[0m\u001b[0;34m\u001b[0m\u001b[0;34m\u001b[0m\u001b[0m\n\u001b[1;32m   1163\u001b[0m \u001b[0;34m\u001b[0m\u001b[0m\n",
      "\u001b[0;32m/usr/local/lib/python3.7/dist-packages/pandas/core/indexing.py\u001b[0m in \u001b[0;36m_validate_read_indexer\u001b[0;34m(self, key, indexer, axis, raise_missing)\u001b[0m\n\u001b[1;32m   1250\u001b[0m             \u001b[0;32mif\u001b[0m \u001b[0;32mnot\u001b[0m\u001b[0;34m(\u001b[0m\u001b[0mself\u001b[0m\u001b[0;34m.\u001b[0m\u001b[0mname\u001b[0m \u001b[0;34m==\u001b[0m \u001b[0;34m'loc'\u001b[0m \u001b[0;32mand\u001b[0m \u001b[0;32mnot\u001b[0m \u001b[0mraise_missing\u001b[0m\u001b[0;34m)\u001b[0m\u001b[0;34m:\u001b[0m\u001b[0;34m\u001b[0m\u001b[0;34m\u001b[0m\u001b[0m\n\u001b[1;32m   1251\u001b[0m                 \u001b[0mnot_found\u001b[0m \u001b[0;34m=\u001b[0m \u001b[0mlist\u001b[0m\u001b[0;34m(\u001b[0m\u001b[0mset\u001b[0m\u001b[0;34m(\u001b[0m\u001b[0mkey\u001b[0m\u001b[0;34m)\u001b[0m \u001b[0;34m-\u001b[0m \u001b[0mset\u001b[0m\u001b[0;34m(\u001b[0m\u001b[0max\u001b[0m\u001b[0;34m)\u001b[0m\u001b[0;34m)\u001b[0m\u001b[0;34m\u001b[0m\u001b[0;34m\u001b[0m\u001b[0m\n\u001b[0;32m-> 1252\u001b[0;31m                 \u001b[0;32mraise\u001b[0m \u001b[0mKeyError\u001b[0m\u001b[0;34m(\u001b[0m\u001b[0;34m\"{} not in index\"\u001b[0m\u001b[0;34m.\u001b[0m\u001b[0mformat\u001b[0m\u001b[0;34m(\u001b[0m\u001b[0mnot_found\u001b[0m\u001b[0;34m)\u001b[0m\u001b[0;34m)\u001b[0m\u001b[0;34m\u001b[0m\u001b[0;34m\u001b[0m\u001b[0m\n\u001b[0m\u001b[1;32m   1253\u001b[0m \u001b[0;34m\u001b[0m\u001b[0m\n\u001b[1;32m   1254\u001b[0m             \u001b[0;31m# we skip the warning on Categorical/Interval\u001b[0m\u001b[0;34m\u001b[0m\u001b[0;34m\u001b[0m\u001b[0;34m\u001b[0m\u001b[0m\n",
      "\u001b[0;31mKeyError\u001b[0m: \"['BsmtFinType1_Rec', 'RoofMatl_ClyTile', 'Exterior2nd_CBlock', 'SaleType_CWD', 'LotShape_IR2', 'HouseStyle_SFoyer', 'RoofStyle_Gable', 'Condition1_PosA', 'Heating_Floor', 'MasVnrType_None', 'Neighborhood_SawyerW', 'BldgType_TwnhsE', 'Heating_Grav', 'Functional_Mod', 'Electrical_FuseA', 'Neighborhood_SWISU', 'SaleCondition_Abnorml', 'Foundation_Wood', 'LotConfig_Inside', 'Neighborhood_Veenker', 'Condition1_Feedr', 'GarageQual_Gd', 'Heating_Wall', 'Street_Pave', 'GarageQual_Ex', 'Fence_GdPrv', 'Foundation_Slab', 'SaleType_Con', 'SaleType_ConLD', 'Electrical_FuseP', 'Exterior1st_Stucco', 'Fence_MnWw', 'Heating_OthW', 'Electrical_SBrkr', 'MSZoning_RM', 'Neighborhood_Gilbert', 'Exterior1st_Plywood', 'Exterior2nd_AsbShng', 'CentralAir_N', 'KitchenQual_Fa', 'Exterior1st_MetalSd', 'Neighborhood_Blueste', 'Neighborhood_Somerst', 'Condition2_PosN', 'Condition1_RRNn', 'BsmtExposure_Mn', 'RoofMatl_Membran', 'RoofMatl_CompShg', 'RoofStyle_Hip', 'PavedDrive_P', 'KitchenQual_Gd', 'ExterCond_Po', 'GarageType_BuiltIn', 'BldgType_Duplex', 'Exterior1st_WdShing', 'Exterior1st_AsbShng', 'BsmtFinType2_GLQ', 'SaleType_New', 'MiscFeature_TenC', 'Neighborhood_NPkVill', 'GarageQual_Po', 'ExterQual_TA', 'ExterQual_Fa', 'Neighborhood_BrDale', 'Foundation_BrkTil', 'Neighborhood_Edwards', 'Condition2_RRAe', 'Exterior2nd_ImStucc', 'HouseStyle_2Story', 'Exterior1st_HdBoard', 'Neighborhood_Crawfor', 'Neighborhood_Mitchel', 'KitchenQual_Ex', 'Exterior1st_BrkFace', 'Functional_Typ', 'FireplaceQu_Ex', 'GarageType_Detchd', 'Exterior1st_ImStucc', 'Neighborhood_NridgHt', 'LotShape_Reg', 'SaleCondition_Partial', 'FireplaceQu_Gd', 'SaleType_WD', 'LotConfig_FR3', 'Electrical_Mix', 'BldgType_Twnhs', 'Exterior2nd_Wd Shng', 'BsmtFinType2_Unf', 'Alley_Pave', 'Condition2_RRNn', 'BsmtQual_Ex', 'Exterior1st_Wd Sdng', 'PavedDrive_N', 'Exterior1st_Stone', 'HeatingQC_Gd', 'HeatingQC_Ex', 'Condition1_Artery', 'FireplaceQu_TA', 'GarageQual_Fa', 'GarageQual_TA', 'RoofMatl_WdShngl', 'Heating_GasA', 'LandSlope_Gtl', 'MasVnrType_BrkCmn', 'Condition1_PosN', 'GarageFinish_Fin', 'Neighborhood_Blmngtn', 'RoofMatl_Metal', 'Neighborhood_IDOTRR', 'Functional_Maj1', 'RoofStyle_Mansard', 'PavedDrive_Y', 'BsmtFinType2_ALQ', 'Fence_GdWo', 'MiscFeature_Othr', 'Exterior2nd_Stone', 'Functional_Min2', 'Electrical_FuseF', 'GarageFinish_Unf', 'Exterior2nd_CmentBd', 'RoofMatl_Tar&Grv', 'Exterior2nd_Wd Sdng', 'LotConfig_Corner', 'SaleCondition_Normal', 'Exterior1st_BrkComm', 'LotConfig_CulDSac', 'RoofStyle_Shed', 'Exterior1st_CBlock', 'MasVnrType_Stone', 'Neighborhood_BrkSide', 'ExterCond_Gd', 'BsmtFinType1_BLQ', 'SaleType_Oth', 'BsmtExposure_No', 'BldgType_1Fam', 'GarageCond_Fa', 'GarageType_2Types', 'LandContour_Lvl', 'Neighborhood_NAmes', 'Neighborhood_ClearCr', 'MSZoning_RL', 'Foundation_Stone', 'Street_Grvl', 'Exterior2nd_Brk Cmn', 'BsmtCond_Fa', 'GarageType_Basment', 'Exterior2nd_HdBoard', 'FireplaceQu_Fa', 'BsmtFinType1_Unf', 'GarageCond_Gd', 'BsmtQual_Gd', 'Condition1_RRNe', 'RoofMatl_Roll', 'Functional_Min1', 'Functional_Sev', 'SaleCondition_AdjLand', 'Condition2_Norm', 'Condition1_Norm', 'Exterior2nd_VinylSd', 'ExterQual_Ex', 'BsmtQual_TA', 'LandContour_Bnk', 'LandContour_Low', 'CentralAir_Y', 'SaleType_ConLI', 'HeatingQC_TA', 'GarageFinish_RFn', 'RoofMatl_WdShake', 'MSZoning_RH', 'Condition2_RRAn', 'BsmtFinType2_BLQ', 'HouseStyle_2.5Fin', 'Exterior2nd_Other', 'ExterCond_TA', 'LotConfig_FR2', 'Alley_Grvl', 'Condition2_Feedr', 'Neighborhood_Sawyer', 'HouseStyle_1.5Fin', 'PoolQC_Gd', 'BsmtExposure_Gd', 'Functional_Maj2', 'BldgType_2fmCon', 'Exterior2nd_AsphShn', 'LotShape_IR1', 'Exterior2nd_Stucco', 'BsmtFinType2_Rec', 'Condition2_PosA', 'Neighborhood_Timber', 'Neighborhood_CollgCr', 'MiscFeature_Gar2', 'BsmtFinType1_ALQ', 'FireplaceQu_Po', 'HouseStyle_SLvl', 'Neighborhood_MeadowV', 'RoofStyle_Flat', 'Utilities_NoSeWa', 'ExterCond_Ex', 'BsmtExposure_Av', 'BsmtCond_TA', 'BsmtFinType1_LwQ', 'KitchenQual_TA', 'GarageCond_TA', 'MSZoning_C (all)', 'PoolQC_Ex', 'MiscFeature_Shed', 'MasVnrType_BrkFace', 'Fence_MnPrv', 'Condition1_RRAe', 'BsmtFinType2_LwQ', 'HeatingQC_Fa', 'SaleType_COD', 'LandSlope_Mod', 'LotShape_IR3', 'HeatingQC_Po', 'ExterQual_Gd', 'RoofStyle_Gambrel', 'Neighborhood_OldTown', 'ExterCond_Fa', 'PoolQC_Fa', 'Exterior2nd_MetalSd', 'Exterior1st_AsphShn', 'GarageType_Attchd', 'LandContour_HLS', 'Heating_GasW', 'HouseStyle_2.5Unf', 'Condition2_Artery', 'Exterior1st_CemntBd', 'Exterior1st_VinylSd', 'BsmtFinType1_GLQ', 'SaleCondition_Alloca', 'BsmtCond_Po', 'SaleCondition_Family', 'HouseStyle_1Story', 'Neighborhood_StoneBr', 'Neighborhood_NoRidge', 'Exterior2nd_Plywood', 'Foundation_CBlock', 'Foundation_PConc', 'BsmtQual_Fa', 'BsmtCond_Gd', 'MSZoning_FV', 'SaleType_ConLw', 'Neighborhood_NWAmes', 'GarageType_CarPort', 'GarageCond_Ex', 'Condition1_RRAn', 'HouseStyle_1.5Unf', 'Utilities_AllPub', 'GarageCond_Po', 'Exterior2nd_BrkFace', 'LandSlope_Sev'] not in index\""
     ]
    }
   ],
   "source": [
    "# In the kaggle forum, users suggest that imputate using the concantenation of the training set and test set lead to better results\n",
    "X_all = X.append(test[X.columns], sort=False)\n",
    "\n",
    "for e in estimators:\n",
    "    impute_and_predict(get_imputer(e, X_all),X,y)"
   ]
  },
  {
   "cell_type": "markdown",
   "metadata": {},
   "source": [
    "**The mean error is higher than before, so it seems using the test set for the imputation process doesn't provide much benefit in this case.  Still I will create another set of predictions and have it scored.**"
   ]
  },
  {
   "cell_type": "code",
   "execution_count": null,
   "metadata": {},
   "outputs": [],
   "source": [
    "# Generate another submission\n",
    "estimator = KNeighborsRegressor(n_neighbors=15)\n",
    "imputer = get_imputer(estimator, X_all)\n"
   ]
  },
  {
   "cell_type": "code",
   "execution_count": null,
   "metadata": {},
   "outputs": [],
   "source": [
    "mymodel = xgb.XGBRegressor(objective='reg:squarederror')\n",
    "mymodel.fit(imputer.transform(X), y)\n",
    "train_cols = X.columns\n",
    "test_encoded =  hot_encode_categorial_variables(drop_cols(test), train_cols)\n",
    "testy = xgboost2.predict(test_encoded[train_cols])"
   ]
  },
  {
   "cell_type": "code",
   "execution_count": null,
   "metadata": {},
   "outputs": [],
   "source": [
    "len(test_encoded.columns)"
   ]
  },
  {
   "cell_type": "code",
   "execution_count": null,
   "metadata": {},
   "outputs": [],
   "source": [
    "results = pd.DataFrame()\n",
    "results['SalePrice'] = testy\n",
    "results['Id'] = test_encoded.Id\n",
    "results.to_csv(data_dir + 'xgb3_prediction.csv', index=False)"
   ]
  }
 ],
 "metadata": {
  "kernelspec": {
   "display_name": "Python 3",
   "language": "python",
   "name": "python3"
  },
  "language_info": {
   "codemirror_mode": {
    "name": "ipython",
    "version": 3
   },
   "file_extension": ".py",
   "mimetype": "text/x-python",
   "name": "python",
   "nbconvert_exporter": "python",
   "pygments_lexer": "ipython3",
   "version": "3.7.5"
  }
 },
 "nbformat": 4,
 "nbformat_minor": 2
}
